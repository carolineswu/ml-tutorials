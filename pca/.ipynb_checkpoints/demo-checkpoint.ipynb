{
 "cells": [
  {
   "cell_type": "markdown",
   "metadata": {},
   "source": [
    "# PCA and Feature Selection #"
   ]
  },
  {
   "cell_type": "markdown",
   "metadata": {},
   "source": [
    "Outline:\n",
    "- Collinearity (done)\n",
    "- LASSO as feature selection (done)\n",
    "- Subset selection (done)\n",
    "- Dimensionality reduction (done)\n",
    "- PCA (done); unsupervised learning; curse of dimensionality (done)"
   ]
  },
  {
   "cell_type": "code",
   "execution_count": 84,
   "metadata": {},
   "outputs": [],
   "source": [
    "import pandas as pd\n",
    "import numpy as np\n",
    "import sklearn\n",
    "import matplotlib.pyplot as plt\n",
    "import seaborn as sns"
   ]
  },
  {
   "cell_type": "markdown",
   "metadata": {},
   "source": [
    "## Collinearity ##"
   ]
  },
  {
   "cell_type": "code",
   "execution_count": 2,
   "metadata": {},
   "outputs": [
    {
     "data": {
      "text/html": [
       "<div>\n",
       "<style scoped>\n",
       "    .dataframe tbody tr th:only-of-type {\n",
       "        vertical-align: middle;\n",
       "    }\n",
       "\n",
       "    .dataframe tbody tr th {\n",
       "        vertical-align: top;\n",
       "    }\n",
       "\n",
       "    .dataframe thead th {\n",
       "        text-align: right;\n",
       "    }\n",
       "</style>\n",
       "<table border=\"1\" class=\"dataframe\">\n",
       "  <thead>\n",
       "    <tr style=\"text-align: right;\">\n",
       "      <th></th>\n",
       "      <th>country</th>\n",
       "      <th>location_name</th>\n",
       "      <th>latitude</th>\n",
       "      <th>longitude</th>\n",
       "      <th>timezone</th>\n",
       "      <th>last_updated_epoch</th>\n",
       "      <th>last_updated</th>\n",
       "      <th>temperature_celsius</th>\n",
       "      <th>temperature_fahrenheit</th>\n",
       "      <th>condition_text</th>\n",
       "      <th>...</th>\n",
       "      <th>air_quality_PM2.5</th>\n",
       "      <th>air_quality_PM10</th>\n",
       "      <th>air_quality_us-epa-index</th>\n",
       "      <th>air_quality_gb-defra-index</th>\n",
       "      <th>sunrise</th>\n",
       "      <th>sunset</th>\n",
       "      <th>moonrise</th>\n",
       "      <th>moonset</th>\n",
       "      <th>moon_phase</th>\n",
       "      <th>moon_illumination</th>\n",
       "    </tr>\n",
       "  </thead>\n",
       "  <tbody>\n",
       "    <tr>\n",
       "      <th>0</th>\n",
       "      <td>Afghanistan</td>\n",
       "      <td>Kabul</td>\n",
       "      <td>34.52</td>\n",
       "      <td>69.18</td>\n",
       "      <td>Asia/Kabul</td>\n",
       "      <td>1693301400</td>\n",
       "      <td>2023-08-29 14:00</td>\n",
       "      <td>28.8</td>\n",
       "      <td>83.8</td>\n",
       "      <td>Sunny</td>\n",
       "      <td>...</td>\n",
       "      <td>7.9</td>\n",
       "      <td>11.1</td>\n",
       "      <td>1</td>\n",
       "      <td>1</td>\n",
       "      <td>05:24 AM</td>\n",
       "      <td>06:24 PM</td>\n",
       "      <td>05:39 PM</td>\n",
       "      <td>02:48 AM</td>\n",
       "      <td>Waxing Gibbous</td>\n",
       "      <td>93</td>\n",
       "    </tr>\n",
       "    <tr>\n",
       "      <th>1</th>\n",
       "      <td>Albania</td>\n",
       "      <td>Tirana</td>\n",
       "      <td>41.33</td>\n",
       "      <td>19.82</td>\n",
       "      <td>Europe/Tirane</td>\n",
       "      <td>1693301400</td>\n",
       "      <td>2023-08-29 11:30</td>\n",
       "      <td>27.0</td>\n",
       "      <td>80.6</td>\n",
       "      <td>Partly cloudy</td>\n",
       "      <td>...</td>\n",
       "      <td>28.2</td>\n",
       "      <td>29.6</td>\n",
       "      <td>2</td>\n",
       "      <td>3</td>\n",
       "      <td>06:04 AM</td>\n",
       "      <td>07:19 PM</td>\n",
       "      <td>06:50 PM</td>\n",
       "      <td>03:25 AM</td>\n",
       "      <td>Waxing Gibbous</td>\n",
       "      <td>93</td>\n",
       "    </tr>\n",
       "    <tr>\n",
       "      <th>2</th>\n",
       "      <td>Algeria</td>\n",
       "      <td>Algiers</td>\n",
       "      <td>36.76</td>\n",
       "      <td>3.05</td>\n",
       "      <td>Africa/Algiers</td>\n",
       "      <td>1693301400</td>\n",
       "      <td>2023-08-29 10:30</td>\n",
       "      <td>28.0</td>\n",
       "      <td>82.4</td>\n",
       "      <td>Partly cloudy</td>\n",
       "      <td>...</td>\n",
       "      <td>6.4</td>\n",
       "      <td>7.9</td>\n",
       "      <td>1</td>\n",
       "      <td>1</td>\n",
       "      <td>06:16 AM</td>\n",
       "      <td>07:21 PM</td>\n",
       "      <td>06:46 PM</td>\n",
       "      <td>03:50 AM</td>\n",
       "      <td>Waxing Gibbous</td>\n",
       "      <td>93</td>\n",
       "    </tr>\n",
       "    <tr>\n",
       "      <th>3</th>\n",
       "      <td>Andorra</td>\n",
       "      <td>Andorra La Vella</td>\n",
       "      <td>42.50</td>\n",
       "      <td>1.52</td>\n",
       "      <td>Europe/Andorra</td>\n",
       "      <td>1693301400</td>\n",
       "      <td>2023-08-29 11:30</td>\n",
       "      <td>10.2</td>\n",
       "      <td>50.4</td>\n",
       "      <td>Sunny</td>\n",
       "      <td>...</td>\n",
       "      <td>0.5</td>\n",
       "      <td>0.8</td>\n",
       "      <td>1</td>\n",
       "      <td>1</td>\n",
       "      <td>07:16 AM</td>\n",
       "      <td>08:34 PM</td>\n",
       "      <td>08:08 PM</td>\n",
       "      <td>04:38 AM</td>\n",
       "      <td>Waxing Gibbous</td>\n",
       "      <td>93</td>\n",
       "    </tr>\n",
       "    <tr>\n",
       "      <th>4</th>\n",
       "      <td>Angola</td>\n",
       "      <td>Luanda</td>\n",
       "      <td>-8.84</td>\n",
       "      <td>13.23</td>\n",
       "      <td>Africa/Luanda</td>\n",
       "      <td>1693301400</td>\n",
       "      <td>2023-08-29 10:30</td>\n",
       "      <td>25.0</td>\n",
       "      <td>77.0</td>\n",
       "      <td>Partly cloudy</td>\n",
       "      <td>...</td>\n",
       "      <td>139.6</td>\n",
       "      <td>203.3</td>\n",
       "      <td>4</td>\n",
       "      <td>10</td>\n",
       "      <td>06:11 AM</td>\n",
       "      <td>06:06 PM</td>\n",
       "      <td>04:43 PM</td>\n",
       "      <td>04:41 AM</td>\n",
       "      <td>Waxing Gibbous</td>\n",
       "      <td>93</td>\n",
       "    </tr>\n",
       "  </tbody>\n",
       "</table>\n",
       "<p>5 rows × 41 columns</p>\n",
       "</div>"
      ],
      "text/plain": [
       "       country     location_name  latitude  longitude        timezone  \\\n",
       "0  Afghanistan             Kabul     34.52      69.18      Asia/Kabul   \n",
       "1      Albania            Tirana     41.33      19.82   Europe/Tirane   \n",
       "2      Algeria           Algiers     36.76       3.05  Africa/Algiers   \n",
       "3      Andorra  Andorra La Vella     42.50       1.52  Europe/Andorra   \n",
       "4       Angola            Luanda     -8.84      13.23   Africa/Luanda   \n",
       "\n",
       "   last_updated_epoch      last_updated  temperature_celsius  \\\n",
       "0          1693301400  2023-08-29 14:00                 28.8   \n",
       "1          1693301400  2023-08-29 11:30                 27.0   \n",
       "2          1693301400  2023-08-29 10:30                 28.0   \n",
       "3          1693301400  2023-08-29 11:30                 10.2   \n",
       "4          1693301400  2023-08-29 10:30                 25.0   \n",
       "\n",
       "   temperature_fahrenheit condition_text  ...  air_quality_PM2.5  \\\n",
       "0                    83.8          Sunny  ...                7.9   \n",
       "1                    80.6  Partly cloudy  ...               28.2   \n",
       "2                    82.4  Partly cloudy  ...                6.4   \n",
       "3                    50.4          Sunny  ...                0.5   \n",
       "4                    77.0  Partly cloudy  ...              139.6   \n",
       "\n",
       "   air_quality_PM10  air_quality_us-epa-index air_quality_gb-defra-index  \\\n",
       "0              11.1                         1                          1   \n",
       "1              29.6                         2                          3   \n",
       "2               7.9                         1                          1   \n",
       "3               0.8                         1                          1   \n",
       "4             203.3                         4                         10   \n",
       "\n",
       "    sunrise    sunset  moonrise   moonset      moon_phase  moon_illumination  \n",
       "0  05:24 AM  06:24 PM  05:39 PM  02:48 AM  Waxing Gibbous                 93  \n",
       "1  06:04 AM  07:19 PM  06:50 PM  03:25 AM  Waxing Gibbous                 93  \n",
       "2  06:16 AM  07:21 PM  06:46 PM  03:50 AM  Waxing Gibbous                 93  \n",
       "3  07:16 AM  08:34 PM  08:08 PM  04:38 AM  Waxing Gibbous                 93  \n",
       "4  06:11 AM  06:06 PM  04:43 PM  04:41 AM  Waxing Gibbous                 93  \n",
       "\n",
       "[5 rows x 41 columns]"
      ]
     },
     "execution_count": 2,
     "metadata": {},
     "output_type": "execute_result"
    }
   ],
   "source": [
    "global_weather = pd.read_csv(\"GlobalWeatherRepository.csv\")\n",
    "global_weather.head()"
   ]
  },
  {
   "cell_type": "markdown",
   "metadata": {},
   "source": [
    "Generally, the dimensionality of a dataset is the number of columns it has. However, columns are sometimes redundant - what are the redundant columns in the dataset above?"
   ]
  },
  {
   "cell_type": "markdown",
   "metadata": {},
   "source": [
    "Let's make a scatterplot of the redundant columns:"
   ]
  },
  {
   "cell_type": "code",
   "execution_count": 9,
   "metadata": {},
   "outputs": [
    {
     "data": {
      "text/plain": [
       "Text(0, 0.5, 'temperature_fahrenheit')"
      ]
     },
     "execution_count": 9,
     "metadata": {},
     "output_type": "execute_result"
    },
    {
     "data": {
      "image/png": "[encoded data removed]",
      "text/plain": [
       "<Figure size 640x480 with 1 Axes>"
      ]
     },
     "metadata": {},
     "output_type": "display_data"
    }
   ],
   "source": [
    "x, y = global_weather['temperature_celsius'], global_weather['temperature_fahrenheit']\n",
    "plt.scatter(x, y, s=[5 for _ in range(len(x))])\n",
    "plt.xlabel('temperature_celsius')\n",
    "plt.ylabel('temperature_fahrenheit')"
   ]
  },
  {
   "cell_type": "markdown",
   "metadata": {},
   "source": [
    "This issue is known as **collinearity**, or sometimes **multicollinearity**. More precisely, collinearity is when one feature can be predicted fairly accurately by a linear combination of the other features (there doesn't need to be a perfect linear relationship)."
   ]
  },
  {
   "cell_type": "markdown",
   "metadata": {},
   "source": [
    "For instance, we can accurately predict the mean area of a breast cancer tumor using its mean radius and perimeter:"
   ]
  },
  {
   "cell_type": "code",
   "execution_count": 54,
   "metadata": {},
   "outputs": [
    {
     "data": {
      "text/html": [
       "<div>\n",
       "<style scoped>\n",
       "    .dataframe tbody tr th:only-of-type {\n",
       "        vertical-align: middle;\n",
       "    }\n",
       "\n",
       "    .dataframe tbody tr th {\n",
       "        vertical-align: top;\n",
       "    }\n",
       "\n",
       "    .dataframe thead th {\n",
       "        text-align: right;\n",
       "    }\n",
       "</style>\n",
       "<table border=\"1\" class=\"dataframe\">\n",
       "  <thead>\n",
       "    <tr style=\"text-align: right;\">\n",
       "      <th></th>\n",
       "      <th>id</th>\n",
       "      <th>diagnosis</th>\n",
       "      <th>radius_mean</th>\n",
       "      <th>texture_mean</th>\n",
       "      <th>perimeter_mean</th>\n",
       "      <th>area_mean</th>\n",
       "      <th>smoothness_mean</th>\n",
       "      <th>compactness_mean</th>\n",
       "      <th>concavity_mean</th>\n",
       "      <th>concave points_mean</th>\n",
       "      <th>...</th>\n",
       "      <th>radius_worst</th>\n",
       "      <th>texture_worst</th>\n",
       "      <th>perimeter_worst</th>\n",
       "      <th>area_worst</th>\n",
       "      <th>smoothness_worst</th>\n",
       "      <th>compactness_worst</th>\n",
       "      <th>concavity_worst</th>\n",
       "      <th>concave points_worst</th>\n",
       "      <th>symmetry_worst</th>\n",
       "      <th>fractal_dimension_worst</th>\n",
       "    </tr>\n",
       "  </thead>\n",
       "  <tbody>\n",
       "    <tr>\n",
       "      <th>0</th>\n",
       "      <td>842302</td>\n",
       "      <td>M</td>\n",
       "      <td>17.99</td>\n",
       "      <td>10.38</td>\n",
       "      <td>122.80</td>\n",
       "      <td>1001.0</td>\n",
       "      <td>0.11840</td>\n",
       "      <td>0.27760</td>\n",
       "      <td>0.3001</td>\n",
       "      <td>0.14710</td>\n",
       "      <td>...</td>\n",
       "      <td>25.38</td>\n",
       "      <td>17.33</td>\n",
       "      <td>184.60</td>\n",
       "      <td>2019.0</td>\n",
       "      <td>0.1622</td>\n",
       "      <td>0.6656</td>\n",
       "      <td>0.7119</td>\n",
       "      <td>0.2654</td>\n",
       "      <td>0.4601</td>\n",
       "      <td>0.11890</td>\n",
       "    </tr>\n",
       "    <tr>\n",
       "      <th>1</th>\n",
       "      <td>842517</td>\n",
       "      <td>M</td>\n",
       "      <td>20.57</td>\n",
       "      <td>17.77</td>\n",
       "      <td>132.90</td>\n",
       "      <td>1326.0</td>\n",
       "      <td>0.08474</td>\n",
       "      <td>0.07864</td>\n",
       "      <td>0.0869</td>\n",
       "      <td>0.07017</td>\n",
       "      <td>...</td>\n",
       "      <td>24.99</td>\n",
       "      <td>23.41</td>\n",
       "      <td>158.80</td>\n",
       "      <td>1956.0</td>\n",
       "      <td>0.1238</td>\n",
       "      <td>0.1866</td>\n",
       "      <td>0.2416</td>\n",
       "      <td>0.1860</td>\n",
       "      <td>0.2750</td>\n",
       "      <td>0.08902</td>\n",
       "    </tr>\n",
       "    <tr>\n",
       "      <th>2</th>\n",
       "      <td>84300903</td>\n",
       "      <td>M</td>\n",
       "      <td>19.69</td>\n",
       "      <td>21.25</td>\n",
       "      <td>130.00</td>\n",
       "      <td>1203.0</td>\n",
       "      <td>0.10960</td>\n",
       "      <td>0.15990</td>\n",
       "      <td>0.1974</td>\n",
       "      <td>0.12790</td>\n",
       "      <td>...</td>\n",
       "      <td>23.57</td>\n",
       "      <td>25.53</td>\n",
       "      <td>152.50</td>\n",
       "      <td>1709.0</td>\n",
       "      <td>0.1444</td>\n",
       "      <td>0.4245</td>\n",
       "      <td>0.4504</td>\n",
       "      <td>0.2430</td>\n",
       "      <td>0.3613</td>\n",
       "      <td>0.08758</td>\n",
       "    </tr>\n",
       "    <tr>\n",
       "      <th>3</th>\n",
       "      <td>84348301</td>\n",
       "      <td>M</td>\n",
       "      <td>11.42</td>\n",
       "      <td>20.38</td>\n",
       "      <td>77.58</td>\n",
       "      <td>386.1</td>\n",
       "      <td>0.14250</td>\n",
       "      <td>0.28390</td>\n",
       "      <td>0.2414</td>\n",
       "      <td>0.10520</td>\n",
       "      <td>...</td>\n",
       "      <td>14.91</td>\n",
       "      <td>26.50</td>\n",
       "      <td>98.87</td>\n",
       "      <td>567.7</td>\n",
       "      <td>0.2098</td>\n",
       "      <td>0.8663</td>\n",
       "      <td>0.6869</td>\n",
       "      <td>0.2575</td>\n",
       "      <td>0.6638</td>\n",
       "      <td>0.17300</td>\n",
       "    </tr>\n",
       "    <tr>\n",
       "      <th>4</th>\n",
       "      <td>84358402</td>\n",
       "      <td>M</td>\n",
       "      <td>20.29</td>\n",
       "      <td>14.34</td>\n",
       "      <td>135.10</td>\n",
       "      <td>1297.0</td>\n",
       "      <td>0.10030</td>\n",
       "      <td>0.13280</td>\n",
       "      <td>0.1980</td>\n",
       "      <td>0.10430</td>\n",
       "      <td>...</td>\n",
       "      <td>22.54</td>\n",
       "      <td>16.67</td>\n",
       "      <td>152.20</td>\n",
       "      <td>1575.0</td>\n",
       "      <td>0.1374</td>\n",
       "      <td>0.2050</td>\n",
       "      <td>0.4000</td>\n",
       "      <td>0.1625</td>\n",
       "      <td>0.2364</td>\n",
       "      <td>0.07678</td>\n",
       "    </tr>\n",
       "  </tbody>\n",
       "</table>\n",
       "<p>5 rows × 32 columns</p>\n",
       "</div>"
      ],
      "text/plain": [
       "         id diagnosis  radius_mean  texture_mean  perimeter_mean  area_mean  \\\n",
       "0    842302         M        17.99         10.38          122.80     1001.0   \n",
       "1    842517         M        20.57         17.77          132.90     1326.0   \n",
       "2  84300903         M        19.69         21.25          130.00     1203.0   \n",
       "3  84348301         M        11.42         20.38           77.58      386.1   \n",
       "4  84358402         M        20.29         14.34          135.10     1297.0   \n",
       "\n",
       "   smoothness_mean  compactness_mean  concavity_mean  concave points_mean  \\\n",
       "0          0.11840           0.27760          0.3001              0.14710   \n",
       "1          0.08474           0.07864          0.0869              0.07017   \n",
       "2          0.10960           0.15990          0.1974              0.12790   \n",
       "3          0.14250           0.28390          0.2414              0.10520   \n",
       "4          0.10030           0.13280          0.1980              0.10430   \n",
       "\n",
       "   ...  radius_worst  texture_worst  perimeter_worst  area_worst  \\\n",
       "0  ...         25.38          17.33           184.60      2019.0   \n",
       "1  ...         24.99          23.41           158.80      1956.0   \n",
       "2  ...         23.57          25.53           152.50      1709.0   \n",
       "3  ...         14.91          26.50            98.87       567.7   \n",
       "4  ...         22.54          16.67           152.20      1575.0   \n",
       "\n",
       "   smoothness_worst  compactness_worst  concavity_worst  concave points_worst  \\\n",
       "0            0.1622             0.6656           0.7119                0.2654   \n",
       "1            0.1238             0.1866           0.2416                0.1860   \n",
       "2            0.1444             0.4245           0.4504                0.2430   \n",
       "3            0.2098             0.8663           0.6869                0.2575   \n",
       "4            0.1374             0.2050           0.4000                0.1625   \n",
       "\n",
       "   symmetry_worst  fractal_dimension_worst  \n",
       "0          0.4601                  0.11890  \n",
       "1          0.2750                  0.08902  \n",
       "2          0.3613                  0.08758  \n",
       "3          0.6638                  0.17300  \n",
       "4          0.2364                  0.07678  \n",
       "\n",
       "[5 rows x 32 columns]"
      ]
     },
     "metadata": {},
     "output_type": "display_data"
    }
   ],
   "source": [
    "breast_cancer = pd.read_csv(\"data.csv\")\n",
    "breast_cancer = breast_cancer.drop(columns=[\"Unnamed: 32\"])\n",
    "display(breast_cancer.head())"
   ]
  },
  {
   "cell_type": "code",
   "execution_count": 34,
   "metadata": {},
   "outputs": [
    {
     "data": {
      "image/png": "[encoded data removed]",
      "text/plain": [
       "<Figure size 640x480 with 1 Axes>"
      ]
     },
     "metadata": {},
     "output_type": "display_data"
    }
   ],
   "source": [
    "fig = plt.figure()\n",
    "ax = fig.add_subplot(projection='3d')\n",
    "x, y, z = breast_cancer['radius_mean'], breast_cancer['perimeter_mean'], breast_cancer['area_mean']\n",
    "ax.scatter(x, y, z)\n",
    "ax.set_xlabel('radius_mean')\n",
    "ax.set_ylabel('perimeter_mean')\n",
    "ax.set_zlabel('area_mean')\n",
    "plt.show()"
   ]
  },
  {
   "cell_type": "markdown",
   "metadata": {},
   "source": [
    "## Dimensionality Reduction ##"
   ]
  },
  {
   "cell_type": "markdown",
   "metadata": {},
   "source": [
    "When columns are collinear, we can perform **dimensionality reduction**. We can achieve this by projecting the data onto the dimension that best approximates the original data. For the data below, this would be the graph on the right:"
   ]
  },
  {
   "cell_type": "markdown",
   "metadata": {},
   "source": [
    "![Dimensionality Reduction](diff_reductions.png)"
   ]
  },
  {
   "cell_type": "markdown",
   "metadata": {},
   "source": [
    "The best approximation minimizes the distance between the original points and their projections (the gold lines). It also maximizes the variance among the points after they've been projected. In other words, the red points are as spread out as possible along the black line - we don't want them to be clustered too close together, otherwise we'll lose information. **The best approximation minimizes information loss by maximizing variance (\"spread\").**"
   ]
  },
  {
   "cell_type": "markdown",
   "metadata": {},
   "source": [
    "These problems (and others that arise when analyzing high-dimensional data) are sometimes called the **curse of dimensionality**. More dimensions gives us a more complete picture of the data, but it comes with challenges as well."
   ]
  },
  {
   "cell_type": "markdown",
   "metadata": {},
   "source": [
    "## PCA ##"
   ]
  },
  {
   "cell_type": "markdown",
   "metadata": {},
   "source": [
    "PCA (**principal component analysis**) is a linear algebra technique that allows us to automatically perform dimensionality reduction. Each principal component represents the direction of the best-fitting line for the data, while being orthogonal to all the previous principal components. Let's perform PCA on the breast cancer dataset using `scikit-learn`:"
   ]
  },
  {
   "cell_type": "code",
   "execution_count": 99,
   "metadata": {},
   "outputs": [],
   "source": [
    "from sklearn.decomposition import PCA\n",
    "\n",
    "# drop the id column (not relevant to data analysis) and diagnosis column (labels we are trying to predict)\n",
    "breast_cancer_new = breast_cancer.drop(columns=['id', 'diagnosis'])\n",
    "\n",
    "k = 5 # out of the 30 original columns, we want to keep 5 principal components\n",
    "pca = PCA(n_components=k)\n",
    "pca.fit(breast_cancer_new)\n",
    "principal_components = pca.transform(breast_cancer_new)"
   ]
  },
  {
   "cell_type": "markdown",
   "metadata": {},
   "source": [
    "Previously, we had 569 data points, each with an effective dimension of 30. Now the dimension of each data point is 5:"
   ]
  },
  {
   "cell_type": "code",
   "execution_count": 68,
   "metadata": {},
   "outputs": [
    {
     "data": {
      "text/plain": [
       "(569, 30)"
      ]
     },
     "metadata": {},
     "output_type": "display_data"
    },
    {
     "data": {
      "text/plain": [
       "(569, 5)"
      ]
     },
     "metadata": {},
     "output_type": "display_data"
    }
   ],
   "source": [
    "display(breast_cancer_new.shape) # old\n",
    "display(principal_components.shape) # new"
   ]
  },
  {
   "cell_type": "markdown",
   "metadata": {},
   "source": [
    "Now let's look at the variance represented by each principal component (notice how they are in decreasing order):"
   ]
  },
  {
   "cell_type": "code",
   "execution_count": 69,
   "metadata": {},
   "outputs": [
    {
     "data": {
      "text/plain": [
       "array([4.43782605e+05, 7.31010006e+03, 7.03833742e+02, 5.46487379e+01,\n",
       "       3.98900178e+01])"
      ]
     },
     "execution_count": 69,
     "metadata": {},
     "output_type": "execute_result"
    }
   ],
   "source": [
    "pca.explained_variance_"
   ]
  },
  {
   "cell_type": "markdown",
   "metadata": {},
   "source": [
    "`pca.explained_variance_ratio_` is the percentage of variance explained by each principal component. Even though we only have 5 components, they account for almost all the total variance:"
   ]
  },
  {
   "cell_type": "code",
   "execution_count": 71,
   "metadata": {},
   "outputs": [
    {
     "data": {
      "text/plain": [
       "array([9.82044672e-01, 1.61764899e-02, 1.55751075e-03, 1.20931964e-04,\n",
       "       8.82724536e-05])"
      ]
     },
     "metadata": {},
     "output_type": "display_data"
    },
    {
     "data": {
      "text/plain": [
       "0.9999878765363133"
      ]
     },
     "execution_count": 71,
     "metadata": {},
     "output_type": "execute_result"
    }
   ],
   "source": [
    "display(pca.explained_variance_ratio_)\n",
    "np.sum(pca.explained_variance_ratio_)"
   ]
  },
  {
   "cell_type": "markdown",
   "metadata": {},
   "source": [
    "Even just the first component accounts for ~98% of the total variance:"
   ]
  },
  {
   "cell_type": "code",
   "execution_count": 76,
   "metadata": {},
   "outputs": [
    {
     "data": {
      "text/plain": [
       "0.9820446715106622"
      ]
     },
     "execution_count": 76,
     "metadata": {},
     "output_type": "execute_result"
    }
   ],
   "source": [
    "pca.explained_variance_ratio_[0]"
   ]
  },
  {
   "cell_type": "markdown",
   "metadata": {},
   "source": [
    "## PCA in Exploratory Data Analysis ##"
   ]
  },
  {
   "cell_type": "markdown",
   "metadata": {},
   "source": [
    "PCA is often done during the exploratory data analysis (EDA) stage of the data science lifecycle. It helps us with:\n",
    "- Removing redundant columns/unnecessary features. This reduces overfitting (see below image) and ensures the remaining columns are linearly independent (not collinear).\n",
    "- Making computation cheaper (fewer columns -> smaller dataset).\n",
    "- Visualizing our data (by reducing it to <= 3 dimensions).\n",
    "    - We often use the first two principal components to plot the data in two dimensions and visually identify clusters of closely related data points.\n",
    "- Representing complex things (e.g. images, genetic information) in a simpler form by reducing dimensions.\n",
    "\n",
    "![Overfitting](overfitting.png)"
   ]
  },
  {
   "cell_type": "markdown",
   "metadata": {},
   "source": [
    "Let's try plotting the first two principal components:"
   ]
  },
  {
   "cell_type": "code",
   "execution_count": 105,
   "metadata": {},
   "outputs": [],
   "source": [
    "def build_comps_df(components, label_df, colnames):\n",
    "    df = pd.DataFrame(data=components,\n",
    "                      columns=colnames)\n",
    "    return df"
   ]
  },
  {
   "cell_type": "code",
   "execution_count": 106,
   "metadata": {},
   "outputs": [
    {
     "data": {
      "image/png": "[encoded data removed]",
      "text/plain": [
       "<Figure size 900x900 with 1 Axes>"
      ]
     },
     "metadata": {},
     "output_type": "display_data"
    }
   ],
   "source": [
    "pca_df = build_comps_df(principal_components, breast_cancer_new, [f\"pc{i+1}\" for i in range(k)])\n",
    "sns.lmplot(x='pc1',\n",
    "           y='pc2',\n",
    "           data=pca_df, \n",
    "           fit_reg=False, \n",
    "           height=9,\n",
    "           scatter_kws={\"s\":50,\"alpha\":0.2})\n",
    "plt.title(\"PCA visualization (PC2 vs. PC1)\");"
   ]
  },
  {
   "cell_type": "markdown",
   "metadata": {},
   "source": [
    "There's definitely some patterns in the data, but points aren't well-separated."
   ]
  },
  {
   "cell_type": "markdown",
   "metadata": {},
   "source": [
    "## Feature Selection ##"
   ]
  },
  {
   "cell_type": "markdown",
   "metadata": {},
   "source": [
    "Feature selection is the process of handpicking a subset of features to be used for training a machine learning model. It's similar to dimensionality reduction in that both techniques aim to reduce the number of features, but they differ significantly in how they achieve this goal. While feature selection chooses a subset of original features to keep and discards others, dimensionality reduction techniques create projections of original features onto a fewer-dimensional space, creating a completely new set of features."
   ]
  },
  {
   "cell_type": "markdown",
   "metadata": {},
   "source": [
    "For instance, in the real estate dataset below, if we wanted to predict `...`, we would probably select features along the lines of `...` and discard the rest (qualitatively speaking, they are not as relevant for prediction)."
   ]
  },
  {
   "cell_type": "code",
   "execution_count": 89,
   "metadata": {},
   "outputs": [
    {
     "data": {
      "text/html": [
       "<div>\n",
       "<style scoped>\n",
       "    .dataframe tbody tr th:only-of-type {\n",
       "        vertical-align: middle;\n",
       "    }\n",
       "\n",
       "    .dataframe tbody tr th {\n",
       "        vertical-align: top;\n",
       "    }\n",
       "\n",
       "    .dataframe thead th {\n",
       "        text-align: right;\n",
       "    }\n",
       "</style>\n",
       "<table border=\"1\" class=\"dataframe\">\n",
       "  <thead>\n",
       "    <tr style=\"text-align: right;\">\n",
       "      <th></th>\n",
       "      <th>status</th>\n",
       "      <th>bed</th>\n",
       "      <th>bath</th>\n",
       "      <th>acre_lot</th>\n",
       "      <th>city</th>\n",
       "      <th>state</th>\n",
       "      <th>zip_code</th>\n",
       "      <th>house_size</th>\n",
       "      <th>prev_sold_date</th>\n",
       "      <th>price</th>\n",
       "    </tr>\n",
       "  </thead>\n",
       "  <tbody>\n",
       "    <tr>\n",
       "      <th>0</th>\n",
       "      <td>for_sale</td>\n",
       "      <td>3.0</td>\n",
       "      <td>2.0</td>\n",
       "      <td>0.12</td>\n",
       "      <td>Adjuntas</td>\n",
       "      <td>Puerto Rico</td>\n",
       "      <td>601.0</td>\n",
       "      <td>920.0</td>\n",
       "      <td>NaN</td>\n",
       "      <td>105000.0</td>\n",
       "    </tr>\n",
       "    <tr>\n",
       "      <th>1</th>\n",
       "      <td>for_sale</td>\n",
       "      <td>4.0</td>\n",
       "      <td>2.0</td>\n",
       "      <td>0.08</td>\n",
       "      <td>Adjuntas</td>\n",
       "      <td>Puerto Rico</td>\n",
       "      <td>601.0</td>\n",
       "      <td>1527.0</td>\n",
       "      <td>NaN</td>\n",
       "      <td>80000.0</td>\n",
       "    </tr>\n",
       "    <tr>\n",
       "      <th>2</th>\n",
       "      <td>for_sale</td>\n",
       "      <td>2.0</td>\n",
       "      <td>1.0</td>\n",
       "      <td>0.15</td>\n",
       "      <td>Juana Diaz</td>\n",
       "      <td>Puerto Rico</td>\n",
       "      <td>795.0</td>\n",
       "      <td>748.0</td>\n",
       "      <td>NaN</td>\n",
       "      <td>67000.0</td>\n",
       "    </tr>\n",
       "    <tr>\n",
       "      <th>3</th>\n",
       "      <td>for_sale</td>\n",
       "      <td>4.0</td>\n",
       "      <td>2.0</td>\n",
       "      <td>0.10</td>\n",
       "      <td>Ponce</td>\n",
       "      <td>Puerto Rico</td>\n",
       "      <td>731.0</td>\n",
       "      <td>1800.0</td>\n",
       "      <td>NaN</td>\n",
       "      <td>145000.0</td>\n",
       "    </tr>\n",
       "    <tr>\n",
       "      <th>4</th>\n",
       "      <td>for_sale</td>\n",
       "      <td>6.0</td>\n",
       "      <td>2.0</td>\n",
       "      <td>0.05</td>\n",
       "      <td>Mayaguez</td>\n",
       "      <td>Puerto Rico</td>\n",
       "      <td>680.0</td>\n",
       "      <td>NaN</td>\n",
       "      <td>NaN</td>\n",
       "      <td>65000.0</td>\n",
       "    </tr>\n",
       "  </tbody>\n",
       "</table>\n",
       "</div>"
      ],
      "text/plain": [
       "     status  bed  bath  acre_lot        city        state  zip_code  \\\n",
       "0  for_sale  3.0   2.0      0.12    Adjuntas  Puerto Rico     601.0   \n",
       "1  for_sale  4.0   2.0      0.08    Adjuntas  Puerto Rico     601.0   \n",
       "2  for_sale  2.0   1.0      0.15  Juana Diaz  Puerto Rico     795.0   \n",
       "3  for_sale  4.0   2.0      0.10       Ponce  Puerto Rico     731.0   \n",
       "4  for_sale  6.0   2.0      0.05    Mayaguez  Puerto Rico     680.0   \n",
       "\n",
       "   house_size prev_sold_date     price  \n",
       "0       920.0            NaN  105000.0  \n",
       "1      1527.0            NaN   80000.0  \n",
       "2       748.0            NaN   67000.0  \n",
       "3      1800.0            NaN  145000.0  \n",
       "4         NaN            NaN   65000.0  "
      ]
     },
     "metadata": {},
     "output_type": "display_data"
    },
    {
     "data": {
      "text/plain": [
       "Index(['status', 'bed', 'bath', 'acre_lot', 'city', 'state', 'zip_code',\n",
       "       'house_size', 'prev_sold_date', 'price'],\n",
       "      dtype='object')"
      ]
     },
     "execution_count": 89,
     "metadata": {},
     "output_type": "execute_result"
    }
   ],
   "source": [
    "real_estate = pd.read_csv('realtor-data.csv')\n",
    "display(real_estate.head())\n",
    "real_estate.columns"
   ]
  },
  {
   "cell_type": "markdown",
   "metadata": {},
   "source": [
    "## LASSO as a Feature Selection Method ##"
   ]
  },
  {
   "cell_type": "markdown",
   "metadata": {},
   "source": [
    "A nice property of LASSO (L1 regularization) is that it sets many model parameters to 0 (or small enough that they are effectively 0). In other words, LASSO effectively performs feature selection. In the example below, notice how the coefficients for `hp^2`, `hp^3`, and `hp^4` are very small compared to `hp` (think about why this is the case based on how LASSO works)."
   ]
  },
  {
   "cell_type": "code",
   "execution_count": 91,
   "metadata": {},
   "outputs": [
    {
     "data": {
      "text/html": [
       "<div>\n",
       "<style scoped>\n",
       "    .dataframe tbody tr th:only-of-type {\n",
       "        vertical-align: middle;\n",
       "    }\n",
       "\n",
       "    .dataframe tbody tr th {\n",
       "        vertical-align: top;\n",
       "    }\n",
       "\n",
       "    .dataframe thead th {\n",
       "        text-align: right;\n",
       "    }\n",
       "</style>\n",
       "<table border=\"1\" class=\"dataframe\">\n",
       "  <thead>\n",
       "    <tr style=\"text-align: right;\">\n",
       "      <th></th>\n",
       "      <th>mpg</th>\n",
       "      <th>cylinders</th>\n",
       "      <th>displacement</th>\n",
       "      <th>hp</th>\n",
       "      <th>weight</th>\n",
       "      <th>acceleration</th>\n",
       "      <th>model_year</th>\n",
       "      <th>origin</th>\n",
       "      <th>name</th>\n",
       "    </tr>\n",
       "  </thead>\n",
       "  <tbody>\n",
       "    <tr>\n",
       "      <th>19</th>\n",
       "      <td>26.0</td>\n",
       "      <td>4</td>\n",
       "      <td>97.0</td>\n",
       "      <td>46.0</td>\n",
       "      <td>1835</td>\n",
       "      <td>20.5</td>\n",
       "      <td>70</td>\n",
       "      <td>europe</td>\n",
       "      <td>volkswagen 1131 deluxe sedan</td>\n",
       "    </tr>\n",
       "    <tr>\n",
       "      <th>102</th>\n",
       "      <td>26.0</td>\n",
       "      <td>4</td>\n",
       "      <td>97.0</td>\n",
       "      <td>46.0</td>\n",
       "      <td>1950</td>\n",
       "      <td>21.0</td>\n",
       "      <td>73</td>\n",
       "      <td>europe</td>\n",
       "      <td>volkswagen super beetle</td>\n",
       "    </tr>\n",
       "    <tr>\n",
       "      <th>326</th>\n",
       "      <td>43.4</td>\n",
       "      <td>4</td>\n",
       "      <td>90.0</td>\n",
       "      <td>48.0</td>\n",
       "      <td>2335</td>\n",
       "      <td>23.7</td>\n",
       "      <td>80</td>\n",
       "      <td>europe</td>\n",
       "      <td>vw dasher (diesel)</td>\n",
       "    </tr>\n",
       "    <tr>\n",
       "      <th>325</th>\n",
       "      <td>44.3</td>\n",
       "      <td>4</td>\n",
       "      <td>90.0</td>\n",
       "      <td>48.0</td>\n",
       "      <td>2085</td>\n",
       "      <td>21.7</td>\n",
       "      <td>80</td>\n",
       "      <td>europe</td>\n",
       "      <td>vw rabbit c (diesel)</td>\n",
       "    </tr>\n",
       "    <tr>\n",
       "      <th>244</th>\n",
       "      <td>43.1</td>\n",
       "      <td>4</td>\n",
       "      <td>90.0</td>\n",
       "      <td>48.0</td>\n",
       "      <td>1985</td>\n",
       "      <td>21.5</td>\n",
       "      <td>78</td>\n",
       "      <td>europe</td>\n",
       "      <td>volkswagen rabbit custom diesel</td>\n",
       "    </tr>\n",
       "  </tbody>\n",
       "</table>\n",
       "</div>"
      ],
      "text/plain": [
       "      mpg  cylinders  displacement    hp  weight  acceleration  model_year  \\\n",
       "19   26.0          4          97.0  46.0    1835          20.5          70   \n",
       "102  26.0          4          97.0  46.0    1950          21.0          73   \n",
       "326  43.4          4          90.0  48.0    2335          23.7          80   \n",
       "325  44.3          4          90.0  48.0    2085          21.7          80   \n",
       "244  43.1          4          90.0  48.0    1985          21.5          78   \n",
       "\n",
       "     origin                             name  \n",
       "19   europe     volkswagen 1131 deluxe sedan  \n",
       "102  europe          volkswagen super beetle  \n",
       "326  europe               vw dasher (diesel)  \n",
       "325  europe             vw rabbit c (diesel)  \n",
       "244  europe  volkswagen rabbit custom diesel  "
      ]
     },
     "execution_count": 91,
     "metadata": {},
     "output_type": "execute_result"
    }
   ],
   "source": [
    "import sklearn.linear_model as lm\n",
    "from sklearn.model_selection import train_test_split\n",
    "\n",
    "vehicles = sns.load_dataset(\"mpg\").rename(columns={\"horsepower\":\"hp\"}).dropna().sort_values(\"hp\")\n",
    "vehicles.head()"
   ]
  },
  {
   "cell_type": "code",
   "execution_count": 103,
   "metadata": {},
   "outputs": [
    {
     "name": "stderr",
     "output_type": "stream",
     "text": [
      "/Users/carol/anaconda3/lib/python3.11/site-packages/sklearn/linear_model/_coordinate_descent.py:631: ConvergenceWarning: Objective did not converge. You might want to increase the number of iterations, check the scale of the features or consider increasing regularisation. Duality gap: 3.140e+03, tolerance: 1.909e+00\n",
      "  model = cd_fast.enet_coordinate_descent(\n"
     ]
    },
    {
     "data": {
      "text/html": [
       "<div>\n",
       "<style scoped>\n",
       "    .dataframe tbody tr th:only-of-type {\n",
       "        vertical-align: middle;\n",
       "    }\n",
       "\n",
       "    .dataframe tbody tr th {\n",
       "        vertical-align: top;\n",
       "    }\n",
       "\n",
       "    .dataframe thead th {\n",
       "        text-align: right;\n",
       "    }\n",
       "</style>\n",
       "<table border=\"1\" class=\"dataframe\">\n",
       "  <thead>\n",
       "    <tr style=\"text-align: right;\">\n",
       "      <th></th>\n",
       "      <th>coefficient for</th>\n",
       "      <th>value</th>\n",
       "    </tr>\n",
       "  </thead>\n",
       "  <tbody>\n",
       "    <tr>\n",
       "      <th>0</th>\n",
       "      <td>hp</td>\n",
       "      <td>-1.876283e-01</td>\n",
       "    </tr>\n",
       "    <tr>\n",
       "      <th>1</th>\n",
       "      <td>hp^2</td>\n",
       "      <td>-1.202774e-03</td>\n",
       "    </tr>\n",
       "    <tr>\n",
       "      <th>2</th>\n",
       "      <td>hp^3</td>\n",
       "      <td>8.096857e-06</td>\n",
       "    </tr>\n",
       "    <tr>\n",
       "      <th>3</th>\n",
       "      <td>hp^4</td>\n",
       "      <td>-8.260523e-09</td>\n",
       "    </tr>\n",
       "  </tbody>\n",
       "</table>\n",
       "</div>"
      ],
      "text/plain": [
       "  coefficient for         value\n",
       "0              hp -1.876283e-01\n",
       "1            hp^2 -1.202774e-03\n",
       "2            hp^3  8.096857e-06\n",
       "3            hp^4 -8.260523e-09"
      ]
     },
     "execution_count": 103,
     "metadata": {},
     "output_type": "execute_result"
    }
   ],
   "source": [
    "pd.options.mode.chained_assignment = None\n",
    "\n",
    "X = vehicles[[\"hp\"]]\n",
    "X[\"hp^2\"] = vehicles[\"hp\"]**2\n",
    "X[\"hp^3\"] = vehicles[\"hp\"]**3\n",
    "X[\"hp^4\"] = vehicles[\"hp\"]**4\n",
    "Y = vehicles[\"mpg\"]\n",
    "\n",
    "X_train, X_test, Y_train, Y_test = train_test_split(X, Y, test_size=0.2, random_state=220)\n",
    "lasso_model = lm.Lasso(alpha=2)\n",
    "lasso_model.fit(X_train, Y_train)\n",
    "\n",
    "pd.DataFrame(data={'coefficient for': ['hp', 'hp^2', 'hp^3', 'hp^4'], 'value': lasso_model.coef_})"
   ]
  },
  {
   "cell_type": "markdown",
   "metadata": {},
   "source": [
    "![LASSO and Ridge](lasso_ridge.jpg)\n",
    "\n",
    "In the images above, the green shapes represent the allowed values for our model coefficients (here there are only $\\theta_1$ and $\\theta_2$). $\\hat{\\theta}_{No Reg.}$ is the set of parameter values that produces the lowest loss (the true minimizer). The red dot is the closest point in the constrained region to the true minimizer.\n",
    "\n",
    "Intuitively, LASSO (left) is better than ridge (right) at forcing coefficients to become 0 because we can often get closer to the lowest loss contour at a corner of the diamond than along an edge (corners represent either $\\theta_1$ or $\\theta_2=0$)."
   ]
  },
  {
   "cell_type": "markdown",
   "metadata": {},
   "source": [
    "congrats ur done hehe!"
   ]
  },
  {
   "cell_type": "code",
   "execution_count": null,
   "metadata": {},
   "outputs": [],
   "source": []
  }
 ],
 "metadata": {
  "kernelspec": {
   "display_name": "Python 3 (ipykernel)",
   "language": "python",
   "name": "python3"
  },
  "language_info": {
   "codemirror_mode": {
    "name": "ipython",
    "version": 3
   },
   "file_extension": ".py",
   "mimetype": "text/x-python",
   "name": "python",
   "nbconvert_exporter": "python",
   "pygments_lexer": "ipython3",
   "version": "3.11.5"
  }
 },
 "nbformat": 4,
 "nbformat_minor": 2
}
